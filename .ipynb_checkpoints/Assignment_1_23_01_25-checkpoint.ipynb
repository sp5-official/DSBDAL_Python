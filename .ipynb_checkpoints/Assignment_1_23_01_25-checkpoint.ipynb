{
 "cells": [
  {
   "cell_type": "code",
   "execution_count": 3,
   "metadata": {},
   "outputs": [],
   "source": [
    "import numpy as np \n",
    "runs = np.array([    [45, 50, 30, 60, 25],    [10, 15, 5, 20, 12],    [80, 60, 75, 100, 90],    [25, 30, 20, 35, 40],    [0, 5, 10, 0, 2],    [50, 55, 60, 65, 70],    [35, 40, 45, 50, 55],    [100, 110, 120, 115, 125],    [10, 12, 15, 10, 8],    [70, 80, 85, 90, 95],    [40, 45, 50, 55, 60] ])"
   ]
  },
  {
   "cell_type": "code",
   "execution_count": 5,
   "metadata": {},
   "outputs": [
    {
     "name": "stdout",
     "output_type": "stream",
     "text": [
      "highest score made by any player: [210  62 405 150  17 300 225 570  55 420 250]\n"
     ]
    }
   ],
   "source": [
    "player_total_runs=np.sum(runs,axis=1)\n",
    "print(\"highest score made by any player:\",player_total_runs)"
   ]
  },
  {
   "cell_type": "code",
   "execution_count": 7,
   "metadata": {},
   "outputs": [
    {
     "name": "stdout",
     "output_type": "stream",
     "text": [
      "highest score made by any player: [ 60  20 100  40  10  70  55 125  15  95  60]\n"
     ]
    }
   ],
   "source": [
    "max_runs=np.max(runs , axis=1)\n",
    "print(\"highest score made by any player:\",max_runs)"
   ]
  },
  {
   "cell_type": "code",
   "execution_count": 8,
   "metadata": {},
   "outputs": [
    {
     "name": "stdout",
     "output_type": "stream",
     "text": [
      "Average runs scored per match by eah player [ 42.   12.4  81.   30.    3.4  60.   45.  114.   11.   84.   50. ]\n"
     ]
    }
   ],
   "source": [
    "avg_runs=np.mean(runs,axis=1)\n",
    "print(\"Average runs scored per match by eah player\",avg_runs)"
   ]
  },
  {
   "cell_type": "code",
   "execution_count": 1,
   "metadata": {},
   "outputs": [],
   "source": [
    "import numpy as np\n",
    "\n",
    "# Sales data\n",
    "sales_data = np.array([\n",
    "    [150, 200, 250, 300, 400, 350, 500],  # Product 1\n",
    "    [120, 180, 210, 240, 310, 280, 400],  # Product 2\n",
    "    [100, 130, 190, 220, 300, 270, 350],  # Product 3\n",
    "    [80, 90, 150, 180, 240, 220, 300],    # Product 4\n",
    "    [50, 60, 80, 100, 130, 120, 180]      # Product 5\n",
    "])"
   ]
  },
  {
   "cell_type": "code",
   "execution_count": 2,
   "metadata": {},
   "outputs": [
    {
     "name": "stdout",
     "output_type": "stream",
     "text": [
      "Shape of sales_data array: (5, 7)\n"
     ]
    }
   ],
   "source": [
    "# 1) Shape of sales_data array\n",
    "print(\"Shape of sales_data array:\", sales_data.shape)\n"
   ]
  },
  {
   "cell_type": "code",
   "execution_count": 3,
   "metadata": {},
   "outputs": [
    {
     "name": "stdout",
     "output_type": "stream",
     "text": [
      "Number of dimensions: 2\n"
     ]
    }
   ],
   "source": [
    "\n",
    "# 2) Number of dimensions\n",
    "print(\"Number of dimensions:\", sales_data.ndim)"
   ]
  },
  {
   "cell_type": "code",
   "execution_count": 4,
   "metadata": {},
   "outputs": [
    {
     "name": "stdout",
     "output_type": "stream",
     "text": [
      "Total number of elements: 35\n"
     ]
    }
   ],
   "source": [
    "# 4) Total number of elements\n",
    "print(\"Total number of elements:\", sales_data.size)"
   ]
  },
  {
   "cell_type": "code",
   "execution_count": 5,
   "metadata": {},
   "outputs": [
    {
     "name": "stdout",
     "output_type": "stream",
     "text": [
      "Total memory used (in bytes): 280\n"
     ]
    }
   ],
   "source": [
    "# 5) Total memory (in bytes) used by the array\n",
    "print(\"Total memory used (in bytes):\", sales_data.nbytes)"
   ]
  },
  {
   "cell_type": "code",
   "execution_count": 6,
   "metadata": {},
   "outputs": [
    {
     "name": "stdout",
     "output_type": "stream",
     "text": [
      "Product 3 sales on Day 4: 220\n",
      "All sales data for Product 1: [150 200 250 300 400 350 500]\n",
      "Sales data for the last 2 days:\n",
      " [[350 500]\n",
      " [280 400]\n",
      " [270 350]\n",
      " [220 300]\n",
      " [120 180]]\n"
     ]
    }
   ],
   "source": [
    "# 6) Retrieve specific sales data\n",
    "product3_day4 = sales_data[2, 3]  # Product 3 on Day 4\n",
    "print(\"Product 3 sales on Day 4:\", product3_day4)\n",
    "\n",
    "product1_sales = sales_data[0, :]  # All sales data for Product 1\n",
    "print(\"All sales data for Product 1:\", product1_sales)\n",
    "\n",
    "last_2_days_sales = sales_data[:, -2:]  # Sales data for the last 2 days\n",
    "print(\"Sales data for the last 2 days:\\n\", last_2_days_sales)"
   ]
  },
  {
   "cell_type": "code",
   "execution_count": null,
   "metadata": {},
   "outputs": [],
   "source": []
  }
 ],
 "metadata": {
  "kernelspec": {
   "display_name": "venv",
   "language": "python",
   "name": "python3"
  },
  "language_info": {
   "codemirror_mode": {
    "name": "ipython",
    "version": 3
   },
   "file_extension": ".py",
   "mimetype": "text/x-python",
   "name": "python",
   "nbconvert_exporter": "python",
   "pygments_lexer": "ipython3",
   "version": "3.13.1"
  }
 },
 "nbformat": 4,
 "nbformat_minor": 2
}
