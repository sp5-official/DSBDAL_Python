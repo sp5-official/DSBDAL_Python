{
 "cells": [
  {
   "cell_type": "code",
   "execution_count": 3,
   "metadata": {},
   "outputs": [
    {
     "name": "stdout",
     "output_type": "stream",
     "text": [
      "          Match 1  Match 2  Match 3  Match 4\n",
      "Player 1       45       30       70       25\n",
      "Player 2       60       50       20       45\n",
      "Player 3       20       40       35       15\n"
     ]
    }
   ],
   "source": [
    "\n",
    "import pandas as pd\n",
    "\n",
    "data = {\n",
    "    \"Match 1\": [45, 60, 20, 80, 55],\n",
    "    \"Match 2\": [30, 50, 40, 90, 65],\n",
    "    \"Match 3\": [70, 20, 35, 60, 40],\n",
    "    \"Match 4\": [25, 45, 15, 100, 75],\n",
    "}\n",
    "\n",
    "performance = pd.DataFrame(data, index=[\"Player 1\", \"Player 2\", \"Player 3\", \"Player 4\", \"Player 5\"])\n",
    "\n",
    "# 1. Display the first three rows of the DataFrame\n",
    "print(performance.head(3))\n"
   ]
  },
  {
   "cell_type": "code",
   "execution_count": 4,
   "metadata": {},
   "outputs": [
    {
     "name": "stdout",
     "output_type": "stream",
     "text": [
      "Number of players: 5\n",
      "Number of matches: 4\n"
     ]
    }
   ],
   "source": [
    "# 2. Get the number of players and matches\n",
    "print(\"Number of players:\", performance.shape[0])\n",
    "print(\"Number of matches:\", performance.shape[1])"
   ]
  },
  {
   "cell_type": "code",
   "execution_count": 5,
   "metadata": {},
   "outputs": [
    {
     "name": "stdout",
     "output_type": "stream",
     "text": [
      "Match names: ['Match 1', 'Match 2', 'Match 3', 'Match 4']\n",
      "Player names: ['Player 1', 'Player 2', 'Player 3', 'Player 4', 'Player 5']\n"
     ]
    }
   ],
   "source": [
    "# 3. List the match names and player names\n",
    "print(\"Match names:\", list(performance.columns))\n",
    "print(\"Player names:\", list(performance.index))\n"
   ]
  },
  {
   "cell_type": "code",
   "execution_count": 6,
   "metadata": {},
   "outputs": [
    {
     "name": "stdout",
     "output_type": "stream",
     "text": [
      "Data type of elements: Match 1    int64\n",
      "Match 2    int64\n",
      "Match 3    int64\n",
      "Match 4    int64\n",
      "dtype: object\n"
     ]
    }
   ],
   "source": [
    "# 4. Display the data type of the elements\n",
    "print(\"Data type of elements:\", performance.dtypes)"
   ]
  },
  {
   "cell_type": "code",
   "execution_count": 8,
   "metadata": {},
   "outputs": [
    {
     "name": "stdout",
     "output_type": "stream",
     "text": [
      "5. Missing values: False \n",
      "\n",
      "6. Player 4 scores:\n",
      "Match 1     80\n",
      "Match 2     90\n",
      "Match 3     60\n",
      "Match 4    100\n",
      "Name: Player 4, dtype: int64 \n",
      "\n",
      "7. Match 2 scores:\n",
      "Player 1    30\n",
      "Player 2    50\n",
      "Player 3    40\n",
      "Player 4    90\n",
      "Player 5    65\n",
      "Name: Match 2, dtype: int64 \n",
      "\n",
      "8. Scores of Player 1 and Player 3 for Match 1 and Match 4:\n",
      "          Match 1  Match 4\n",
      "Player 1       45       25\n",
      "Player 3       20       15 \n",
      "\n"
     ]
    }
   ],
   "source": [
    "# 5. Check if there are any missing values\n",
    "print(\"5. Missing values:\", performance.isnull().any().any(), \"\\n\")\n",
    "\n",
    "# 6. Retrieve the scores of \"Player 4\"\n",
    "print(\"6. Player 4 scores:\")\n",
    "print(performance.loc[\"Player 4\"], \"\\n\")\n",
    "\n",
    "# 7. Extract the scores of all players in \"Match 2\"\n",
    "print(\"7. Match 2 scores:\")\n",
    "print(performance[\"Match 2\"], \"\\n\")\n",
    "\n",
    "# 8. Retrieve scores of \"Player 1\" and \"Player 3\" for \"Match 1\" and \"Match 4\"\n",
    "print(\"8. Scores of Player 1 and Player 3 for Match 1 and Match 4:\")\n",
    "print(performance.loc[[\"Player 1\", \"Player 3\"], [\"Match 1\", \"Match 4\"]], \"\\n\")\n"
   ]
  },
  {
   "cell_type": "code",
   "execution_count": 9,
   "metadata": {},
   "outputs": [
    {
     "name": "stdout",
     "output_type": "stream",
     "text": [
      "9. First 3 players and first 2 matches:\n",
      "          Match 1  Match 2\n",
      "Player 1       45       30\n",
      "Player 2       60       50\n",
      "Player 3       20       40 \n",
      "\n",
      "10. Player 5 score in Match 3: 40 \n",
      "\n",
      "11. Updated DataFrame after changing Player 2's score in Match 4 to 50:\n",
      "          Match 1  Match 2  Match 3  Match 4\n",
      "Player 1       45       30       70       25\n",
      "Player 2       60       50       20       50\n",
      "Player 3       20       40       35       15\n",
      "Player 4       80       90       60      100\n",
      "Player 5       55       65       40       75 \n",
      "\n",
      "12. DataFrame after adding Player 6:\n",
      "          Match 1  Match 2  Match 3  Match 4\n",
      "Player 1       45       30       70       25\n",
      "Player 2       60       50       20       50\n",
      "Player 3       20       40       35       15\n",
      "Player 4       80       90       60      100\n",
      "Player 5       55       65       40       75\n",
      "Player 6       50       40       60       70 \n",
      "\n"
     ]
    }
   ],
   "source": [
    "# 9. Slice the DataFrame to get first 3 players and first 2 matches\n",
    "print(\"9. First 3 players and first 2 matches:\")\n",
    "print(performance.iloc[:3, :2], \"\\n\")\n",
    "\n",
    "# 10. Find the score of \"Player 5\" in \"Match 3\"\n",
    "print(\"10. Player 5 score in Match 3:\", performance.loc[\"Player 5\", \"Match 3\"], \"\\n\")\n",
    "\n",
    "# 11. Update the score of \"Player 2\" in \"Match 4\" to 50\n",
    "performance.loc[\"Player 2\", \"Match 4\"] = 50\n",
    "print(\"11. Updated DataFrame after changing Player 2's score in Match 4 to 50:\")\n",
    "print(performance, \"\\n\")\n",
    "\n",
    "# 12. Add a new player, \"Player 6\", with scores [50, 40, 60, 70]\n",
    "performance.loc[\"Player 6\"] = [50, 40, 60, 70]\n",
    "print(\"12. DataFrame after adding Player 6:\")\n",
    "print(performance, \"\\n\")"
   ]
  },
  {
   "cell_type": "code",
   "execution_count": 10,
   "metadata": {},
   "outputs": [
    {
     "name": "stdout",
     "output_type": "stream",
     "text": [
      "13. DataFrame after adding 10 bonus runs to all scores:\n",
      "          Match 1  Match 2  Match 3  Match 4\n",
      "Player 1       55       40       80       35\n",
      "Player 2       70       60       30       60\n",
      "Player 3       30       50       45       25\n",
      "Player 4       90      100       70      110\n",
      "Player 5       65       75       50       85\n",
      "Player 6       60       50       70       80 \n",
      "\n",
      "14. DataFrame after deducting 5 runs from Player 3's scores:\n",
      "          Match 1  Match 2  Match 3  Match 4\n",
      "Player 1       55       40       80       35\n",
      "Player 2       70       60       30       60\n",
      "Player 3       25       45       40       20\n",
      "Player 4       90      100       70      110\n",
      "Player 5       65       75       50       85\n",
      "Player 6       60       50       70       80 \n",
      "\n",
      "15. Percentage contribution of each player’s score in each match:\n",
      "            Match 1    Match 2    Match 3    Match 4\n",
      "Player 1  45.833333  33.333333  66.666667  29.166667\n",
      "Player 2  58.333333  50.000000  25.000000  50.000000\n",
      "Player 3  20.833333  37.500000  33.333333  16.666667\n",
      "Player 4  75.000000  83.333333  58.333333  91.666667\n",
      "Player 5  54.166667  62.500000  41.666667  70.833333\n",
      "Player 6  50.000000  41.666667  58.333333  66.666667 \n",
      "\n",
      "16. Total runs by each player:\n",
      "Player 1    210\n",
      "Player 2    220\n",
      "Player 3    130\n",
      "Player 4    370\n",
      "Player 5    275\n",
      "Player 6    260\n",
      "dtype: int64 \n",
      "\n",
      "17. Total runs per match:\n",
      "Match 1    365\n",
      "Match 2    370\n",
      "Match 3    340\n",
      "Match 4    390\n",
      "dtype: int64 \n",
      "\n",
      "18. Player with highest total runs: Player 4 \n",
      "\n",
      "19. Match with lowest total runs: Match 3 \n",
      "\n",
      "20. Average runs by each player:\n",
      "Player 1    52.50\n",
      "Player 2    55.00\n",
      "Player 3    32.50\n",
      "Player 4    92.50\n",
      "Player 5    68.75\n",
      "Player 6    65.00\n",
      "dtype: float64 \n",
      "\n"
     ]
    }
   ],
   "source": [
    "# 13. Add 10 bonus runs to all scores\n",
    "performance += 10\n",
    "print(\"13. DataFrame after adding 10 bonus runs to all scores:\")\n",
    "print(performance, \"\\n\")\n",
    "\n",
    "# 14. Deduct 5 runs from the scores of \"Player 3\"\n",
    "performance.loc[\"Player 3\"] -= 5\n",
    "print(\"14. DataFrame after deducting 5 runs from Player 3's scores:\")\n",
    "print(performance, \"\\n\")\n",
    "\n",
    "# 15. Calculate percentage contribution of each player’s score in each match\n",
    "percentage_contribution = (performance / 120) * 100\n",
    "print(\"15. Percentage contribution of each player’s score in each match:\")\n",
    "print(percentage_contribution, \"\\n\")\n",
    "\n",
    "# 16. Calculate total runs scored by each player\n",
    "total_runs = performance.sum(axis=1)\n",
    "print(\"16. Total runs by each player:\")\n",
    "print(total_runs, \"\\n\")\n",
    "\n",
    "# 17. Determine the total runs scored in each match\n",
    "total_runs_per_match = performance.sum(axis=0)\n",
    "print(\"17. Total runs per match:\")\n",
    "print(total_runs_per_match, \"\\n\")\n",
    "\n",
    "# 18. Find the player with the highest total runs\n",
    "highest_scorer = total_runs.idxmax()\n",
    "print(\"18. Player with highest total runs:\", highest_scorer, \"\\n\")\n",
    "\n",
    "# 19. Identify the match with the lowest total runs\n",
    "lowest_match = total_runs_per_match.idxmin()\n",
    "print(\"19. Match with lowest total runs:\", lowest_match, \"\\n\")\n",
    "\n",
    "# 20. Compute the average runs scored by each player\n",
    "average_runs = performance.mean(axis=1)\n",
    "print(\"20. Average runs by each player:\")\n",
    "print(average_runs, \"\\n\")"
   ]
  },
  {
   "cell_type": "code",
   "execution_count": 11,
   "metadata": {},
   "outputs": [
    {
     "name": "stdout",
     "output_type": "stream",
     "text": [
      "21. DataFrame after adding 'Total Runs' column:\n",
      "          Match 1  Match 2  Match 3  Match 4  Total Runs\n",
      "Player 1       55       40       80       35         210\n",
      "Player 2       70       60       30       60         220\n",
      "Player 3       25       45       40       20         130\n",
      "Player 4       90      100       70      110         370\n",
      "Player 5       65       75       50       85         275\n",
      "Player 6       60       50       70       80         260 \n",
      "\n",
      "22. DataFrame sorted by 'Total Runs' in descending order:\n",
      "          Match 1  Match 2  Match 3  Match 4  Total Runs\n",
      "Player 4       90      100       70      110         370\n",
      "Player 5       65       75       50       85         275\n",
      "Player 6       60       50       70       80         260\n",
      "Player 2       70       60       30       60         220\n",
      "Player 1       55       40       80       35         210\n",
      "Player 3       25       45       40       20         130 \n",
      "\n",
      "23. Players with total runs greater than 200:\n",
      "          Match 1  Match 2  Match 3  Match 4  Total Runs\n",
      "Player 1       55       40       80       35         210\n",
      "Player 2       70       60       30       60         220\n",
      "Player 4       90      100       70      110         370\n",
      "Player 5       65       75       50       85         275\n",
      "Player 6       60       50       70       80         260 \n",
      "\n"
     ]
    }
   ],
   "source": [
    "# 21. Add a new column called \"Total Runs\"\n",
    "performance[\"Total Runs\"] = total_runs\n",
    "print(\"21. DataFrame after adding 'Total Runs' column:\")\n",
    "print(performance, \"\\n\")\n",
    "\n",
    "# 22. Sort the DataFrame by the \"Total Runs\" column in descending order\n",
    "performance_sorted = performance.sort_values(by=\"Total Runs\", ascending=False)\n",
    "print(\"22. DataFrame sorted by 'Total Runs' in descending order:\")\n",
    "print(performance_sorted, \"\\n\")\n",
    "\n",
    "# 23. Filter the players who scored a total of more than 200 runs\n",
    "players_above_200 = performance[performance[\"Total Runs\"] > 200]\n",
    "print(\"23. Players with total runs greater than 200:\")\n",
    "print(players_above_200, \"\\n\")"
   ]
  }
 ],
 "metadata": {
  "kernelspec": {
   "display_name": "Python 3",
   "language": "python",
   "name": "python3"
  },
  "language_info": {
   "codemirror_mode": {
    "name": "ipython",
    "version": 3
   },
   "file_extension": ".py",
   "mimetype": "text/x-python",
   "name": "python",
   "nbconvert_exporter": "python",
   "pygments_lexer": "ipython3",
   "version": "3.13.1"
  }
 },
 "nbformat": 4,
 "nbformat_minor": 2
}
