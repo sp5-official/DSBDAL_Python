{
 "cells": [
  {
   "cell_type": "code",
   "execution_count": 3,
   "metadata": {},
   "outputs": [
    {
     "name": "stdout",
     "output_type": "stream",
     "text": [
      "   Unnamed: 0 Result    Margin  BR  Toss  Bat   Opposition     Ground  \\\n",
      "0         418    won   85 runs NaN  lost  1st      v India    Kolkata   \n",
      "1         692   lost   85 runs NaN   won  2nd   v Pakistan    Kolkata   \n",
      "2         419   lost   10 runs NaN  lost  2nd      v India      Delhi   \n",
      "3         693    won   10 runs NaN   won  1st   v Pakistan      Delhi   \n",
      "4         121   lost  107 runs NaN  lost  2nd  v Australia  Melbourne   \n",
      "\n",
      "  Start Date    Match_ID   Country  Country_ID  \n",
      "0  03-Jan-13  ODI # 3315  Pakistan           7  \n",
      "1  03-Jan-13  ODI # 3315     India           6  \n",
      "2  06-Jan-13  ODI # 3316  Pakistan           7  \n",
      "3  06-Jan-13  ODI # 3316     India           6  \n",
      "4  11-Jan-13  ODI # 3317  SriLanka           8  \n"
     ]
    }
   ],
   "source": [
    "import pandas as pd\n",
    "\n",
    "data = pd.read_csv('match_data.csv')\n",
    "\n",
    "print(data.head())"
   ]
  },
  {
   "cell_type": "code",
   "execution_count": 4,
   "metadata": {},
   "outputs": [
    {
     "name": "stdout",
     "output_type": "stream",
     "text": [
      "   Unnamed: 0 Result     Margin    BR  Toss  Bat   Opposition     Ground  \\\n",
      "0         418    won    85 runs   NaN  lost  1st      v India    Kolkata   \n",
      "1         692   lost    85 runs   NaN   won  2nd   v Pakistan    Kolkata   \n",
      "2         419   lost    10 runs   NaN  lost  2nd      v India      Delhi   \n",
      "3         693    won    10 runs   NaN   won  1st   v Pakistan      Delhi   \n",
      "4         121   lost   107 runs   NaN  lost  2nd  v Australia  Melbourne   \n",
      "5        1096    won   107 runs   NaN   won  1st  v Sri Lanka  Melbourne   \n",
      "6         694   lost     9 runs   NaN  lost  2nd    v England     Rajkot   \n",
      "7         852    won     9 runs   NaN   won  1st      v India     Rajkot   \n",
      "8         122    won  8 wickets  59.0   won  2nd  v Australia   Adelaide   \n",
      "9        1097   lost  8 wickets  59.0  lost  1st  v Sri Lanka   Adelaide   \n",
      "\n",
      "  Start Date    Match_ID    Country  Country_ID  \n",
      "0  03-Jan-13  ODI # 3315   Pakistan           7  \n",
      "1  03-Jan-13  ODI # 3315      India           6  \n",
      "2  06-Jan-13  ODI # 3316   Pakistan           7  \n",
      "3  06-Jan-13  ODI # 3316      India           6  \n",
      "4  11-Jan-13  ODI # 3317   SriLanka           8  \n",
      "5  11-Jan-13  ODI # 3317  Australia           2  \n",
      "6  11-Jan-13  ODI # 3318      India           6  \n",
      "7  11-Jan-13  ODI # 3318    England           1  \n",
      "8  13-Jan-13  ODI # 3319   SriLanka           8  \n",
      "9  13-Jan-13  ODI # 3319  Australia           2  \n"
     ]
    }
   ],
   "source": [
    "print(data.head(10))"
   ]
  },
  {
   "cell_type": "code",
   "execution_count": 6,
   "metadata": {},
   "outputs": [
    {
     "data": {
      "text/plain": [
       "'Q1: Write a Python script to download or load the dataset into a Pandas DataFrame.\\nQ2: Load the dataset into a Pandas DataFrame and display the first five rows. What initial insights can you gather from this data?\\nQ3: Check the number of rows and columns in the dataset using Pandas functions.\\nQ4: Identify missing values in the dataset using the isnull() function. Which columns have missing values, and how many?\\nQ5: Generate summary statistics of the dataset using the describe() function. Explain what insights you derive from the statistical summary.\\nQ6: List all the variable names and their data types. Provide a brief description of each variable and its significance in evaluating player performance.\\nQ7: Identify variables with incorrect data types (e.g., numerical values stored as strings). Write a Python script to convert these variables into the correct format.\\nQ8: Explain why data type conversion is necessary for accurate performance analysis. Provide an example from your dataset where type conversion improves data usability.'"
      ]
     },
     "execution_count": 6,
     "metadata": {},
     "output_type": "execute_result"
    }
   ],
   "source": [
    "'''Q1: Write a Python script to download or load the dataset into a Pandas DataFrame.\n",
    "Q2: Load the dataset into a Pandas DataFrame and display the first five rows. What initial insights can you gather from this data?\n",
    "Q3: Check the number of rows and columns in the dataset using Pandas functions.\n",
    "Q4: Identify missing values in the dataset using the isnull() function. Which columns have missing values, and how many?\n",
    "Q5: Generate summary statistics of the dataset using the describe() function. Explain what insights you derive from the statistical summary.\n",
    "Q6: List all the variable names and their data types. Provide a brief description of each variable and its significance in evaluating player performance.\n",
    "Q7: Identify variables with incorrect data types (e.g., numerical values stored as strings). Write a Python script to convert these variables into the correct format.\n",
    "Q8: Explain why data type conversion is necessary for accurate performance analysis. Provide an example from your dataset where type conversion improves data usability.'''"
   ]
  },
  {
   "cell_type": "code",
   "execution_count": 18,
   "metadata": {},
   "outputs": [
    {
     "name": "stdout",
     "output_type": "stream",
     "text": [
      "(1322, 12)\n",
      "Unnamed: 0      0\n",
      "Result          0\n",
      "Margin          0\n",
      "BR            716\n",
      "Toss            0\n",
      "Bat             0\n",
      "Opposition      0\n",
      "Ground          0\n",
      "Start Date      0\n",
      "Match_ID        0\n",
      "Country         0\n",
      "Country_ID      0\n",
      "dtype: int64\n",
      "        Unnamed: 0          BR   Country_ID\n",
      "count  1322.000000  606.000000  1322.000000\n",
      "mean    661.500000   51.409241     8.560514\n",
      "std     381.772838   55.924337    10.337003\n",
      "min       1.000000    0.000000     1.000000\n",
      "25%     331.250000   10.000000     3.000000\n",
      "50%     661.500000   30.500000     5.000000\n",
      "75%     991.750000   75.000000     8.000000\n",
      "max    1322.000000  250.000000    40.000000\n",
      "Unnamed: 0      int64\n",
      "Result         object\n",
      "Margin         object\n",
      "BR            float64\n",
      "Toss           object\n",
      "Bat            object\n",
      "Opposition     object\n",
      "Ground         object\n",
      "Start Date     object\n",
      "Match_ID       object\n",
      "Country        object\n",
      "Country_ID      int64\n",
      "dtype: object\n"
     ]
    }
   ],
   "source": [
    "print(data.shape)\n",
    "\n",
    "print(data.isnull().sum())\n",
    "\n",
    "print(data.describe())\n",
    "\n",
    "print(data.dtypes)\n",
    "\n"
   ]
  }
 ],
 "metadata": {
  "kernelspec": {
   "display_name": ".venv",
   "language": "python",
   "name": "python3"
  },
  "language_info": {
   "codemirror_mode": {
    "name": "ipython",
    "version": 3
   },
   "file_extension": ".py",
   "mimetype": "text/x-python",
   "name": "python",
   "nbconvert_exporter": "python",
   "pygments_lexer": "ipython3",
   "version": "3.13.1"
  }
 },
 "nbformat": 4,
 "nbformat_minor": 2
}
