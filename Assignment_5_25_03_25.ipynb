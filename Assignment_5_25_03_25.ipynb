{
 "cells": [
  {
   "cell_type": "code",
   "execution_count": 76,
   "id": "f2696d1f-2c59-4b81-8ae4-bf5bf7c5972c",
   "metadata": {},
   "outputs": [],
   "source": [
    "import pandas as pd\n",
    "import numpy as np\n",
    "import matplotlib.pyplot as plt\n",
    "import seaborn as sns\n",
    "from sklearn.preprocessing import LabelEncoder\n",
    "from sklearn.model_selection import train_test_split\n",
    "from sklearn.preprocessing import StandardScaler, LabelEncoder\n",
    "from sklearn.linear_model import LogisticRegression\n",
    "from sklearn.metrics import ( confusion_matrix, ConfusionMatrixDisplay, \n",
    "                    classification_report, accuracy_score, precision_score,\n",
    "                    recall_score, f1_score )"
   ]
  },
  {
   "cell_type": "code",
   "execution_count": 77,
   "id": "01e73420-4cab-44e6-a18e-4c59f31cf786",
   "metadata": {},
   "outputs": [
    {
     "data": {
      "text/html": [
       "<div>\n",
       "<style scoped>\n",
       "    .dataframe tbody tr th:only-of-type {\n",
       "        vertical-align: middle;\n",
       "    }\n",
       "\n",
       "    .dataframe tbody tr th {\n",
       "        vertical-align: top;\n",
       "    }\n",
       "\n",
       "    .dataframe thead th {\n",
       "        text-align: right;\n",
       "    }\n",
       "</style>\n",
       "<table border=\"1\" class=\"dataframe\">\n",
       "  <thead>\n",
       "    <tr style=\"text-align: right;\">\n",
       "      <th></th>\n",
       "      <th>User ID</th>\n",
       "      <th>Gender</th>\n",
       "      <th>Age</th>\n",
       "      <th>EstimatedSalary</th>\n",
       "      <th>Purchased</th>\n",
       "    </tr>\n",
       "  </thead>\n",
       "  <tbody>\n",
       "    <tr>\n",
       "      <th>0</th>\n",
       "      <td>15624510</td>\n",
       "      <td>Male</td>\n",
       "      <td>19</td>\n",
       "      <td>19000</td>\n",
       "      <td>0</td>\n",
       "    </tr>\n",
       "    <tr>\n",
       "      <th>1</th>\n",
       "      <td>15810944</td>\n",
       "      <td>Male</td>\n",
       "      <td>35</td>\n",
       "      <td>20000</td>\n",
       "      <td>0</td>\n",
       "    </tr>\n",
       "    <tr>\n",
       "      <th>2</th>\n",
       "      <td>15668575</td>\n",
       "      <td>Female</td>\n",
       "      <td>26</td>\n",
       "      <td>43000</td>\n",
       "      <td>0</td>\n",
       "    </tr>\n",
       "    <tr>\n",
       "      <th>3</th>\n",
       "      <td>15603246</td>\n",
       "      <td>Female</td>\n",
       "      <td>27</td>\n",
       "      <td>57000</td>\n",
       "      <td>0</td>\n",
       "    </tr>\n",
       "    <tr>\n",
       "      <th>4</th>\n",
       "      <td>15804002</td>\n",
       "      <td>Male</td>\n",
       "      <td>19</td>\n",
       "      <td>76000</td>\n",
       "      <td>0</td>\n",
       "    </tr>\n",
       "    <tr>\n",
       "      <th>5</th>\n",
       "      <td>15728773</td>\n",
       "      <td>Male</td>\n",
       "      <td>27</td>\n",
       "      <td>58000</td>\n",
       "      <td>0</td>\n",
       "    </tr>\n",
       "    <tr>\n",
       "      <th>6</th>\n",
       "      <td>15598044</td>\n",
       "      <td>Female</td>\n",
       "      <td>27</td>\n",
       "      <td>84000</td>\n",
       "      <td>0</td>\n",
       "    </tr>\n",
       "    <tr>\n",
       "      <th>7</th>\n",
       "      <td>15694829</td>\n",
       "      <td>Female</td>\n",
       "      <td>32</td>\n",
       "      <td>150000</td>\n",
       "      <td>1</td>\n",
       "    </tr>\n",
       "    <tr>\n",
       "      <th>8</th>\n",
       "      <td>15600575</td>\n",
       "      <td>Male</td>\n",
       "      <td>25</td>\n",
       "      <td>33000</td>\n",
       "      <td>0</td>\n",
       "    </tr>\n",
       "    <tr>\n",
       "      <th>9</th>\n",
       "      <td>15727311</td>\n",
       "      <td>Female</td>\n",
       "      <td>35</td>\n",
       "      <td>65000</td>\n",
       "      <td>0</td>\n",
       "    </tr>\n",
       "  </tbody>\n",
       "</table>\n",
       "</div>"
      ],
      "text/plain": [
       "    User ID  Gender  Age  EstimatedSalary  Purchased\n",
       "0  15624510    Male   19            19000          0\n",
       "1  15810944    Male   35            20000          0\n",
       "2  15668575  Female   26            43000          0\n",
       "3  15603246  Female   27            57000          0\n",
       "4  15804002    Male   19            76000          0\n",
       "5  15728773    Male   27            58000          0\n",
       "6  15598044  Female   27            84000          0\n",
       "7  15694829  Female   32           150000          1\n",
       "8  15600575    Male   25            33000          0\n",
       "9  15727311  Female   35            65000          0"
      ]
     },
     "execution_count": 77,
     "metadata": {},
     "output_type": "execute_result"
    }
   ],
   "source": [
    "# Step 2: Import the dataset\n",
    "df = pd.read_csv(\"Social_Network_Ads.csv\")\n",
    "df.head(10)"
   ]
  },
  {
   "cell_type": "code",
   "execution_count": 78,
   "id": "3c2cb672-d78e-4439-9460-b33914e3cb61",
   "metadata": {},
   "outputs": [
    {
     "name": "stdout",
     "output_type": "stream",
     "text": [
      "<class 'pandas.core.frame.DataFrame'>\n",
      "RangeIndex: 400 entries, 0 to 399\n",
      "Data columns (total 5 columns):\n",
      " #   Column           Non-Null Count  Dtype \n",
      "---  ------           --------------  ----- \n",
      " 0   User ID          400 non-null    int64 \n",
      " 1   Gender           400 non-null    object\n",
      " 2   Age              400 non-null    int64 \n",
      " 3   EstimatedSalary  400 non-null    int64 \n",
      " 4   Purchased        400 non-null    int64 \n",
      "dtypes: int64(4), object(1)\n",
      "memory usage: 15.8+ KB\n",
      "\n",
      "----------------- Dataset Summary -----------------\n",
      "            User ID         Age  EstimatedSalary   Purchased\n",
      "count  4.000000e+02  400.000000       400.000000  400.000000\n",
      "mean   1.569154e+07   37.655000     69742.500000    0.357500\n",
      "std    7.165832e+04   10.482877     34096.960282    0.479864\n",
      "min    1.556669e+07   18.000000     15000.000000    0.000000\n",
      "25%    1.562676e+07   29.750000     43000.000000    0.000000\n",
      "50%    1.569434e+07   37.000000     70000.000000    0.000000\n",
      "75%    1.575036e+07   46.000000     88000.000000    1.000000\n",
      "max    1.581524e+07   60.000000    150000.000000    1.000000\n",
      "\n",
      " Missing Values: User ID            0\n",
      "Gender             0\n",
      "Age                0\n",
      "EstimatedSalary    0\n",
      "Purchased          0\n",
      "dtype: int64\n",
      "\n",
      " Dataset Shape: (400, 5)\n"
     ]
    }
   ],
   "source": [
    "# Display basic info\n",
    "df.info()\n",
    "print(\"\\n----------------- Dataset Summary -----------------\")\n",
    "print(df.describe())\n",
    "\n",
    "print(\"\\n Missing Values:\", df.isnull().sum())\n",
    "\n",
    "print(\"\\n Dataset Shape:\", df.shape)"
   ]
  },
  {
   "cell_type": "code",
   "execution_count": 79,
   "id": "05e4af55-4ec0-4a4b-8911-d3b370fa4230",
   "metadata": {},
   "outputs": [],
   "source": [
    "# Select features and target variable\n",
    "X = df.iloc[:, 2:4]  # Selecting Age and EstimatedSalary\n",
    "y = df.iloc[:, 4]    # Target variable (Purchased)\n",
    "\n",
    "# Split data into training and testing (75% training, 25% testing)\n",
    "X_train, X_test, y_train, y_test = train_test_split(X, y, test_size=0.25, random_state=42)\n",
    "\n",
    "# Scale features\n",
    "scaler = StandardScaler()\n",
    "X_train = scaler.fit_transform(X_train)\n",
    "X_test = scaler.transform(X_test)\n",
    "\n",
    "# Train Logistic Regression model\n",
    "lr = LogisticRegression(random_state=0, solver='lbfgs')\n",
    "lr.fit(X_train, y_train)\n",
    "\n",
    "# Make predictions\n",
    "pred = lr.predict(X_test)"
   ]
  },
  {
   "cell_type": "code",
   "execution_count": 80,
   "id": "842306b5-480c-43a5-afde-1e57075e99a5",
   "metadata": {},
   "outputs": [
    {
     "name": "stdout",
     "output_type": "stream",
     "text": [
      "First 10 Test Samples:\n",
      " [[ 0.812419   -1.39920777]\n",
      " [ 2.0889839   0.52871943]\n",
      " [-0.95513241 -0.75656537]\n",
      " [ 1.0088136   0.76240757]\n",
      " [-0.85693511 -1.22394166]\n",
      " [-0.75873781 -0.23076704]\n",
      " [ 0.9106163   1.08372877]\n",
      " [-0.85693511  0.38266434]\n",
      " [ 0.2232352   0.14897619]\n",
      " [ 0.4196298  -0.14313399]]\n",
      "\n",
      " Predicted Values: [0 1 0 1 0 0 1 0 0 0]\n",
      "\n",
      " Actual Values: [0 1 0 1 0 0 1 0 0 0]\n"
     ]
    }
   ],
   "source": [
    "# Print first 10 predictions\n",
    "print(\"First 10 Test Samples:\\n\", X_test[:10])\n",
    "print(\"\\n Predicted Values:\", pred[:10])\n",
    "print(\"\\n Actual Values:\", y_test[:10].values)"
   ]
  },
  {
   "cell_type": "code",
   "execution_count": 81,
   "id": "fed95a0d-b417-4723-831f-b690c01dbe37",
   "metadata": {},
   "outputs": [
    {
     "data": {
      "image/png": "[encoded data removed]",
      "text/plain": [
       "<Figure size 640x480 with 2 Axes>"
      ]
     },
     "metadata": {},
     "output_type": "display_data"
    }
   ],
   "source": [
    "# Confusion Matrix\n",
    "tp, fn, fp, tn = confusion_matrix(y_test, pred, labels=[1, 0]).ravel()\n",
    "conf_matrix = confusion_matrix(y_test, pred, labels=lr.classes_)\n",
    "ConfusionMatrixDisplay(conf_matrix, display_labels=lr.classes_).plot(cmap=plt.cm.Blues)\n",
    "plt.show()"
   ]
  },
  {
   "cell_type": "code",
   "execution_count": 82,
   "id": "7fcaa9ca-d5bf-41f3-b7ef-048302e1ad9e",
   "metadata": {},
   "outputs": [
    {
     "name": "stdout",
     "output_type": "stream",
     "text": [
      "              precision    recall  f1-score   support\n",
      "\n",
      "           0       0.84      0.97      0.90        63\n",
      "           1       0.93      0.68      0.78        37\n",
      "\n",
      "    accuracy                           0.86       100\n",
      "   macro avg       0.88      0.82      0.84       100\n",
      "weighted avg       0.87      0.86      0.85       100\n",
      "\n"
     ]
    }
   ],
   "source": [
    "# Model Evaluation\n",
    "print(classification_report(y_test, pred))\n"
   ]
  },
  {
   "cell_type": "code",
   "execution_count": 83,
   "id": "39044739-ebf7-417c-b142-17551e613d86",
   "metadata": {},
   "outputs": [
    {
     "name": "stdout",
     "output_type": "stream",
     "text": [
      "Accuracy: 0.86\n",
      "\n",
      " Error Rate: 0.14\n",
      "\n",
      " Recall (Sensitivity): 0.6756756756756757\n",
      "\n",
      " Specificity: 0.9682539682539683\n",
      "\n",
      " Precision: 0.9259259259259259\n",
      "\n",
      " False Positive Rate: 0.031746031746031744\n"
     ]
    }
   ],
   "source": [
    "# Model Evaluation\n",
    "print('Accuracy: {:.2f}'.format(accuracy_score(y_test, pred)))\n",
    "total = tp + tn + fn + fp\n",
    "print('\\n Error Rate:', (fp + fn) / total if total != 0 else \"Undefined (No Predictions)\")\n",
    "print('\\n Recall (Sensitivity):', tp / (tp + fn) if (tp + fn) != 0 else \"Undefined\")\n",
    "print('\\n Specificity:', tn / (tn + fp) if (tn + fp) != 0 else \"Undefined\")\n",
    "print('\\n Precision:', tp / (tp + fp) if (tp + fp) != 0 else \"Undefined\")\n",
    "print('\\n False Positive Rate:', fp / (tn + fp) if (tn + fp) != 0 else \"Undefined\")\n"
   ]
  },
  {
   "cell_type": "code",
   "execution_count": 84,
   "id": "c0e66660-f2d6-4646-96d2-a4f721c89f88",
   "metadata": {},
   "outputs": [
    {
     "data": {
      "image/png": "[encoded data removed]",
      "text/plain": [
       "<Figure size 800x500 with 1 Axes>"
      ]
     },
     "metadata": {},
     "output_type": "display_data"
    }
   ],
   "source": [
    "# Countplot for Males and Females Who Purchased\n",
    "df['Purchased'] = df['Purchased'].astype(str)  # Convert target to string for better visualization\n",
    "\n",
    "plt.figure(figsize=(8, 5))\n",
    "sns.countplot(x='Gender', hue='Purchased', data=df, palette='viridis')\n",
    "plt.xlabel('Gender')\n",
    "plt.ylabel('Count')\n",
    "plt.title('Number of Males and Females Who Purchased')\n",
    "plt.legend(title='Purchased', labels=['Not Purchased', 'Purchased'])\n",
    "plt.show()"
   ]
  }
 ],
 "metadata": {
  "kernelspec": {
   "display_name": "Python 3",
   "language": "python",
   "name": "python3"
  },
  "language_info": {
   "codemirror_mode": {
    "name": "ipython",
    "version": 3
   },
   "file_extension": ".py",
   "mimetype": "text/x-python",
   "name": "python",
   "nbconvert_exporter": "python",
   "pygments_lexer": "ipython3",
   "version": "3.13.1"
  }
 },
 "nbformat": 4,
 "nbformat_minor": 5
}
