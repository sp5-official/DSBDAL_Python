{
 "cells": [
  {
   "cell_type": "code",
   "execution_count": 12,
   "metadata": {},
   "outputs": [
    {
     "name": "stderr",
     "output_type": "stream",
     "text": [
      "[nltk_data] Downloading package punkt_tab to\n",
      "[nltk_data]     C:\\Users\\pawar\\AppData\\Roaming\\nltk_data...\n",
      "[nltk_data]   Package punkt_tab is already up-to-date!\n"
     ]
    },
    {
     "name": "stdout",
     "output_type": "stream",
     "text": [
      "\n",
      "--- Tokenization ---\n",
      "Sentences: ['Tokenization is the first step in text analytics.', 'The process of breaking down a text paragraph into smaller chunks such as words or sentences is called Tokenization.']\n",
      "Words: ['Tokenization', 'is', 'the', 'first', 'step', 'in', 'text', 'analytics', '.', 'The', 'process', 'of', 'breaking', 'down', 'a', 'text', 'paragraph', 'into', 'smaller', 'chunks', 'such', 'as', 'words', 'or', 'sentences', 'is', 'called', 'Tokenization', '.']\n",
      "\n",
      "--- Stopword Removal ---\n",
      "Filtered Words: ['tokenization', 'first', 'step', 'text', 'analytics', 'process', 'breaking', 'text', 'paragraph', 'smaller', 'chunks', 'words', 'sentences', 'called', 'tokenization']\n",
      "\n",
      "--- Stemming ---\n",
      "['wait', 'wait', 'wait', 'wait']\n",
      "\n",
      "--- Lemmatization ---\n",
      "['study', 'studying', 'cry', 'cry']\n",
      "\n",
      "--- POS Tagging ---\n",
      "[('The', 'DT'), ('pink', 'NN'), ('sweater', 'NN'), ('fit', 'VBP'), ('her', 'PRP$'), ('perfectly', 'RB')]\n"
     ]
    }
   ],
   "source": [
    "import nltk\n",
    "from nltk.tokenize import sent_tokenize, word_tokenize\n",
    "from nltk.corpus import stopwords\n",
    "from nltk.stem import PorterStemmer, WordNetLemmatizer\n",
    "import re\n",
    "\n",
    "# # Step 1: Download required NLTK packages (handles missing resources)\n",
    "nltk.download('punkt_tab')\n",
    "# nltk.download('stopwords')\n",
    "# nltk.download('wordnet')\n",
    "# nltk.download('averaged_perceptron_tagger')\n",
    "\n",
    "# Step 2: Initialize text\n",
    "text = \"Tokenization is the first step in text analytics. The process of breaking down a text paragraph into smaller chunks such as words or sentences is called Tokenization.\"\n",
    "\n",
    "# Step 3: Perform Tokenization\n",
    "print(\"\\n--- Tokenization ---\")\n",
    "tokenized_sentences = sent_tokenize(text)  # Sentence Tokenization\n",
    "tokenized_words = word_tokenize(text)  # Word Tokenization\n",
    "\n",
    "print(\"Sentences:\", tokenized_sentences)\n",
    "print(\"Words:\", tokenized_words)\n",
    "\n",
    "# Step 4: Removing Punctuation & Stop Words\n",
    "stop_words = set(stopwords.words(\"english\"))\n",
    "\n",
    "# Remove punctuation and lowercase the text\n",
    "clean_text = re.sub(r'[^\\w\\s]', '', text.lower())\n",
    "\n",
    "# Tokenize and remove stopwords\n",
    "filtered_words = [word for word in word_tokenize(clean_text) if word not in stop_words]\n",
    "\n",
    "print(\"\\n--- Stopword Removal ---\")\n",
    "print(\"Filtered Words:\", filtered_words)\n",
    "\n",
    "# Step 5: Perform Stemming\n",
    "ps = PorterStemmer()\n",
    "sample_words = [\"wait\", \"waiting\", \"waited\", \"waits\"]\n",
    "\n",
    "print(\"\\n--- Stemming ---\")\n",
    "print([ps.stem(word) for word in sample_words])\n",
    "\n",
    "# Step 6: Perform Lemmatization\n",
    "lemmatizer = WordNetLemmatizer()\n",
    "lem_words = [\"studies\", \"studying\", \"cries\", \"cry\"]\n",
    "\n",
    "print(\"\\n--- Lemmatization ---\")\n",
    "print([lemmatizer.lemmatize(word) for word in lem_words])\n",
    "\n",
    "# Step 7: Apply POS Tagging\n",
    "data = \"The pink sweater fit her perfectly\"\n",
    "words = word_tokenize(data)\n",
    "\n",
    "print(\"\\n--- POS Tagging ---\")\n",
    "print(nltk.pos_tag(words))\n"
   ]
  },
  {
   "cell_type": "code",
   "execution_count": null,
   "metadata": {},
   "outputs": [],
   "source": []
  }
 ],
 "metadata": {
  "kernelspec": {
   "display_name": "Python 3 (ipykernel)",
   "language": "python",
   "name": "python3"
  },
  "language_info": {
   "codemirror_mode": {
    "name": "ipython",
    "version": 3
   },
   "file_extension": ".py",
   "mimetype": "text/x-python",
   "name": "python",
   "nbconvert_exporter": "python",
   "pygments_lexer": "ipython3",
   "version": "3.13.1"
  }
 },
 "nbformat": 4,
 "nbformat_minor": 4
}
