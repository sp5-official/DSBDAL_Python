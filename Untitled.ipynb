{
 "cells": [
  {
   "cell_type": "code",
   "execution_count": 3,
   "id": "745eaccd-c3e0-43b5-bb81-cc8b88371bc2",
   "metadata": {},
   "outputs": [
    {
     "name": "stdout",
     "output_type": "stream",
     "text": [
      "Accuracy: 0.9934\n",
      "\n",
      "Classification Report:\n",
      "               precision    recall  f1-score   support\n",
      "\n",
      "           0       1.00      1.00      1.00       608\n",
      "           1       0.98      0.99      0.98       146\n",
      "\n",
      "    accuracy                           0.99       754\n",
      "   macro avg       0.99      0.99      0.99       754\n",
      "weighted avg       0.99      0.99      0.99       754\n",
      "\n",
      "\n",
      "Confusion Matrix:\n",
      " [[605   3]\n",
      " [  2 144]]\n"
     ]
    },
    {
     "data": {
      "image/png": "[encoded data removed]",
      "text/plain": [
       "<Figure size 640x480 with 2 Axes>"
      ]
     },
     "metadata": {},
     "output_type": "display_data"
    }
   ],
   "source": [
    "import pandas as pd\n",
    "import numpy as np\n",
    "import matplotlib.pyplot as plt\n",
    "from sklearn.model_selection import train_test_split\n",
    "from sklearn.naive_bayes import GaussianNB\n",
    "from sklearn.metrics import confusion_matrix, accuracy_score, classification_report, ConfusionMatrixDisplay\n",
    "\n",
    "# Load the dataset\n",
    "df = pd.read_csv(\"bank_transactions_data_2.csv\")\n",
    "\n",
    "# Feature Selection\n",
    "features = [\"TransactionAmount\", \"CustomerAge\", \"TransactionDuration\", \"LoginAttempts\", \"AccountBalance\"]\n",
    "\n",
    "df = df.dropna(subset=features)  # Remove rows with missing values in selected features\n",
    "\n",
    "# Generate a synthetic 'Fraudulent' column (1 if transaction amount > 500, else 0)\n",
    "df[\"Fraudulent\"] = np.where(df[\"TransactionAmount\"] > 500, 1, 0)\n",
    "\n",
    "# Define features (X) and target variable (y)\n",
    "X = df[features]\n",
    "y = df[\"Fraudulent\"]\n",
    "\n",
    "# Split dataset into training and testing sets\n",
    "X_train, X_test, y_train, y_test = train_test_split(X, y, test_size=0.3, random_state=42)\n",
    "\n",
    "# Train Naïve Bayes Model\n",
    "model = GaussianNB()\n",
    "model.fit(X_train, y_train)\n",
    "\n",
    "# Make predictions\n",
    "y_pred = model.predict(X_test)\n",
    "\n",
    "# Evaluate Model\n",
    "accuracy = accuracy_score(y_test, y_pred)\n",
    "conf_matrix = confusion_matrix(y_test, y_pred)\n",
    "\n",
    "# Display Results\n",
    "print(\"Accuracy:\", round(accuracy, 4))\n",
    "print(\"\\nClassification Report:\\n\", classification_report(y_test, y_pred))\n",
    "print(\"\\nConfusion Matrix:\\n\", conf_matrix)\n",
    "\n",
    "# Plot Confusion Matrix\n",
    "ConfusionMatrixDisplay(conf_matrix).plot(cmap=plt.cm.Blues)\n",
    "plt.show()\n"
   ]
  },
  {
   "cell_type": "code",
   "execution_count": null,
   "id": "8639ff64-48d8-4475-9579-bdbe9c5c05ef",
   "metadata": {},
   "outputs": [],
   "source": []
  }
 ],
 "metadata": {
  "kernelspec": {
   "display_name": "Python 3 (ipykernel)",
   "language": "python",
   "name": "python3"
  },
  "language_info": {
   "codemirror_mode": {
    "name": "ipython",
    "version": 3
   },
   "file_extension": ".py",
   "mimetype": "text/x-python",
   "name": "python",
   "nbconvert_exporter": "python",
   "pygments_lexer": "ipython3",
   "version": "3.13.1"
  }
 },
 "nbformat": 4,
 "nbformat_minor": 5
}
